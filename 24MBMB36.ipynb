{
 "cells": [
  {
   "cell_type": "code",
   "execution_count": 0,
   "metadata": {
    "application/vnd.databricks.v1+cell": {
     "cellMetadata": {
      "byteLimit": 2048000,
      "rowLimit": 10000
     },
     "inputWidgets": {},
     "nuid": "e93d24c3-6502-4b0c-9606-ac1077e979d8",
     "showTitle": false,
     "tableResultSettingsMap": {},
     "title": ""
    }
   },
   "outputs": [
    {
     "output_type": "display_data",
     "data": {
      "text/html": [
       "<style scoped>\n",
       "  .table-result-container {\n",
       "    max-height: 300px;\n",
       "    overflow: auto;\n",
       "  }\n",
       "  table, th, td {\n",
       "    border: 1px solid black;\n",
       "    border-collapse: collapse;\n",
       "  }\n",
       "  th, td {\n",
       "    padding: 5px;\n",
       "  }\n",
       "  th {\n",
       "    text-align: left;\n",
       "  }\n",
       "</style><div class='table-result-container'><table class='table-result'><thead style='background-color: white'><tr><th>player_id</th><th>player_name</th><th>country</th><th>session_id</th><th>task</th><th>amount_spent</th><th>timestamp</th></tr></thead><tbody><tr><td>P016</td><td>Trevor</td><td>Brazil</td><td>S026</td><td>logout</td><td>0.0</td><td>2025-08-16T15:33:00.000Z</td></tr><tr><td>P019</td><td>Melissa</td><td>Brazil</td><td>S021</td><td>login</td><td>0.0</td><td>2025-08-23T05:02:00.000Z</td></tr><tr><td>P005</td><td>Kimberly</td><td>Brazil</td><td>S029</td><td>login</td><td>0.0</td><td>2025-08-11T10:45:00.000Z</td></tr><tr><td>P017</td><td>Joyce</td><td>India</td><td>S028</td><td>logout</td><td>0.0</td><td>2025-08-14T04:20:00.000Z</td></tr><tr><td>P002</td><td>Vanessa</td><td>Germany</td><td>S012</td><td>logout</td><td>0.0</td><td>2025-08-07T13:19:00.000Z</td></tr></tbody></table></div>"
      ]
     },
     "metadata": {
      "application/vnd.databricks.v1+output": {
       "addedWidgets": {},
       "aggData": [],
       "aggError": "",
       "aggOverflow": false,
       "aggSchema": [],
       "aggSeriesLimitReached": false,
       "aggType": "",
       "arguments": {},
       "columnCustomDisplayInfos": {},
       "data": [
        [
         "P016",
         "Trevor",
         "Brazil",
         "S026",
         "logout",
         0.0,
         "2025-08-16T15:33:00.000Z"
        ],
        [
         "P019",
         "Melissa",
         "Brazil",
         "S021",
         "login",
         0.0,
         "2025-08-23T05:02:00.000Z"
        ],
        [
         "P005",
         "Kimberly",
         "Brazil",
         "S029",
         "login",
         0.0,
         "2025-08-11T10:45:00.000Z"
        ],
        [
         "P017",
         "Joyce",
         "India",
         "S028",
         "logout",
         0.0,
         "2025-08-14T04:20:00.000Z"
        ],
        [
         "P002",
         "Vanessa",
         "Germany",
         "S012",
         "logout",
         0.0,
         "2025-08-07T13:19:00.000Z"
        ]
       ],
       "datasetInfos": [],
       "dbfsResultPath": null,
       "isJsonSchema": true,
       "metadata": {},
       "overflow": false,
       "plotOptions": {
        "customPlotOptions": {},
        "displayType": "table",
        "pivotAggregation": null,
        "pivotColumns": null,
        "xColumns": null,
        "yColumns": null
       },
       "removedWidgets": [],
       "schema": [
        {
         "metadata": "{}",
         "name": "player_id",
         "type": "\"string\""
        },
        {
         "metadata": "{}",
         "name": "player_name",
         "type": "\"string\""
        },
        {
         "metadata": "{}",
         "name": "country",
         "type": "\"string\""
        },
        {
         "metadata": "{}",
         "name": "session_id",
         "type": "\"string\""
        },
        {
         "metadata": "{}",
         "name": "task",
         "type": "\"string\""
        },
        {
         "metadata": "{}",
         "name": "amount_spent",
         "type": "\"double\""
        },
        {
         "metadata": "{}",
         "name": "timestamp",
         "type": "\"timestamp\""
        }
       ],
       "type": "table"
      }
     },
     "output_type": "display_data"
    }
   ],
   "source": [
    "from pyspark.sql.types import StructType, StructField, StringType, DoubleType\n",
    "from pyspark.sql.functions import to_timestamp\n",
    "\n",
    "schema = StructType([\n",
    "    StructField(\"player_id\", StringType(), True),\n",
    "    StructField(\"player_name\", StringType(), True),\n",
    "    StructField(\"country\", StringType(), True),\n",
    "    StructField(\"session_id\", StringType(), True),\n",
    "    StructField(\"task\", StringType(), True),\n",
    "    StructField(\"amount_spent\", DoubleType(), True),\n",
    "    StructField(\"timestamp\", StringType(), True)\n",
    "])\n",
    "\n",
    "df = (spark.read\n",
    "      .option(\"header\", True)\n",
    "      .schema(schema)\n",
    "      .csv(\"/Volumes/gaming/gamingengagement/raw_data/player_engagement.csv\")\n",
    "      .withColumn(\"timestamp\", to_timestamp(\"timestamp\", \"dd-MM-yyyy HH:mm\"))\n",
    ")\n",
    "\n",
    "display(df.limit(5))\n"
   ]
  },
  {
   "cell_type": "code",
   "execution_count": 0,
   "metadata": {
    "application/vnd.databricks.v1+cell": {
     "cellMetadata": {
      "byteLimit": 2048000,
      "rowLimit": 10000
     },
     "inputWidgets": {},
     "nuid": "5fc14790-6b23-440c-9c36-d4dea2c9f7b0",
     "showTitle": false,
     "tableResultSettingsMap": {},
     "title": ""
    }
   },
   "outputs": [
    {
     "output_type": "display_data",
     "data": {
      "text/html": [
       "<style scoped>\n",
       "  .table-result-container {\n",
       "    max-height: 300px;\n",
       "    overflow: auto;\n",
       "  }\n",
       "  table, th, td {\n",
       "    border: 1px solid black;\n",
       "    border-collapse: collapse;\n",
       "  }\n",
       "  th, td {\n",
       "    padding: 5px;\n",
       "  }\n",
       "  th {\n",
       "    text-align: left;\n",
       "  }\n",
       "</style><div class='table-result-container'><table class='table-result'><thead style='background-color: white'><tr><th>player_id</th><th>player_name</th><th>total_spent</th></tr></thead><tbody><tr><td>P017</td><td>Joyce</td><td>1530.0</td></tr><tr><td>P020</td><td>Stephanie</td><td>867.0</td></tr><tr><td>P007</td><td>Anthony</td><td>606.0</td></tr><tr><td>P014</td><td>Doris</td><td>602.0</td></tr><tr><td>P001</td><td>Timothy</td><td>566.0</td></tr><tr><td>P015</td><td>Robert</td><td>543.0</td></tr><tr><td>P012</td><td>Tommy</td><td>487.0</td></tr><tr><td>P010</td><td>Kelly</td><td>375.0</td></tr><tr><td>P019</td><td>Melissa</td><td>369.0</td></tr><tr><td>P006</td><td>Jessica</td><td>280.0</td></tr><tr><td>P016</td><td>Trevor</td><td>261.0</td></tr><tr><td>P008</td><td>Teresa</td><td>257.0</td></tr><tr><td>P011</td><td>Kenneth</td><td>251.0</td></tr><tr><td>P005</td><td>Kimberly</td><td>245.0</td></tr><tr><td>P009</td><td>Larry</td><td>233.0</td></tr></tbody></table></div>"
      ]
     },
     "metadata": {
      "application/vnd.databricks.v1+output": {
       "addedWidgets": {},
       "aggData": [],
       "aggError": "",
       "aggOverflow": false,
       "aggSchema": [],
       "aggSeriesLimitReached": false,
       "aggType": "",
       "arguments": {},
       "columnCustomDisplayInfos": {},
       "data": [
        [
         "P017",
         "Joyce",
         1530.0
        ],
        [
         "P020",
         "Stephanie",
         867.0
        ],
        [
         "P007",
         "Anthony",
         606.0
        ],
        [
         "P014",
         "Doris",
         602.0
        ],
        [
         "P001",
         "Timothy",
         566.0
        ],
        [
         "P015",
         "Robert",
         543.0
        ],
        [
         "P012",
         "Tommy",
         487.0
        ],
        [
         "P010",
         "Kelly",
         375.0
        ],
        [
         "P019",
         "Melissa",
         369.0
        ],
        [
         "P006",
         "Jessica",
         280.0
        ],
        [
         "P016",
         "Trevor",
         261.0
        ],
        [
         "P008",
         "Teresa",
         257.0
        ],
        [
         "P011",
         "Kenneth",
         251.0
        ],
        [
         "P005",
         "Kimberly",
         245.0
        ],
        [
         "P009",
         "Larry",
         233.0
        ]
       ],
       "datasetInfos": [],
       "dbfsResultPath": null,
       "isJsonSchema": true,
       "metadata": {},
       "overflow": false,
       "plotOptions": {
        "customPlotOptions": {},
        "displayType": "table",
        "pivotAggregation": null,
        "pivotColumns": null,
        "xColumns": null,
        "yColumns": null
       },
       "removedWidgets": [],
       "schema": [
        {
         "metadata": "{}",
         "name": "player_id",
         "type": "\"string\""
        },
        {
         "metadata": "{}",
         "name": "player_name",
         "type": "\"string\""
        },
        {
         "metadata": "{}",
         "name": "total_spent",
         "type": "\"double\""
        }
       ],
       "type": "table"
      }
     },
     "output_type": "display_data"
    }
   ],
   "source": [
    "from pyspark.sql.functions import sum as spark_sum\n",
    "\n",
    "total_purchases = (df.filter(df.task == \"purchase\")\n",
    "                     .groupBy(\"player_id\", \"player_name\")\n",
    "                     .agg(spark_sum(\"amount_spent\").alias(\"total_spent\"))\n",
    "                     .orderBy(\"total_spent\", ascending=False))\n",
    "\n",
    "display(total_purchases)\n"
   ]
  },
  {
   "cell_type": "code",
   "execution_count": 0,
   "metadata": {
    "application/vnd.databricks.v1+cell": {
     "cellMetadata": {
      "byteLimit": 2048000,
      "rowLimit": 10000
     },
     "inputWidgets": {},
     "nuid": "73b0375d-f95e-474c-a7c0-cfb8c464cd0e",
     "showTitle": false,
     "tableResultSettingsMap": {},
     "title": ""
    }
   },
   "outputs": [
    {
     "output_type": "display_data",
     "data": {
      "text/html": [
       "<style scoped>\n",
       "  .table-result-container {\n",
       "    max-height: 300px;\n",
       "    overflow: auto;\n",
       "  }\n",
       "  table, th, td {\n",
       "    border: 1px solid black;\n",
       "    border-collapse: collapse;\n",
       "  }\n",
       "  th, td {\n",
       "    padding: 5px;\n",
       "  }\n",
       "  th {\n",
       "    text-align: left;\n",
       "  }\n",
       "</style><div class='table-result-container'><table class='table-result'><thead style='background-color: white'><tr><th>player_id</th><th>player_name</th><th>max_session_length_hours</th></tr></thead><tbody><tr><td>P017</td><td>Joyce</td><td>537.8166666666667</td></tr><tr><td>P005</td><td>Kimberly</td><td>423.81666666666666</td></tr><tr><td>P006</td><td>Jessica</td><td>280.25</td></tr><tr><td>P009</td><td>Larry</td><td>28.65</td></tr><tr><td>P013</td><td>Jason</td><td>10.55</td></tr></tbody></table></div>"
      ]
     },
     "metadata": {
      "application/vnd.databricks.v1+output": {
       "addedWidgets": {},
       "aggData": [],
       "aggError": "",
       "aggOverflow": false,
       "aggSchema": [],
       "aggSeriesLimitReached": false,
       "aggType": "",
       "arguments": {},
       "columnCustomDisplayInfos": {},
       "data": [
        [
         "P017",
         "Joyce",
         537.8166666666667
        ],
        [
         "P005",
         "Kimberly",
         423.81666666666666
        ],
        [
         "P006",
         "Jessica",
         280.25
        ],
        [
         "P009",
         "Larry",
         28.65
        ],
        [
         "P013",
         "Jason",
         10.55
        ]
       ],
       "datasetInfos": [],
       "dbfsResultPath": null,
       "isJsonSchema": true,
       "metadata": {},
       "overflow": false,
       "plotOptions": {
        "customPlotOptions": {},
        "displayType": "table",
        "pivotAggregation": null,
        "pivotColumns": null,
        "xColumns": null,
        "yColumns": null
       },
       "removedWidgets": [],
       "schema": [
        {
         "metadata": "{}",
         "name": "player_id",
         "type": "\"string\""
        },
        {
         "metadata": "{}",
         "name": "player_name",
         "type": "\"string\""
        },
        {
         "metadata": "{}",
         "name": "max_session_length_hours",
         "type": "\"double\""
        }
       ],
       "type": "table"
      }
     },
     "output_type": "display_data"
    }
   ],
   "source": [
    "from pyspark.sql.functions import count\n",
    "\n",
    "# Count number of events per session\n",
    "session_lengths = (df.groupBy(\"player_id\", \"player_name\", \"session_id\")\n",
    "                     .agg(\n",
    "                         spark_min(\"timestamp\").alias(\"session_start\"),\n",
    "                         spark_max(\"timestamp\").alias(\"session_end\"),\n",
    "                         count(\"*\").alias(\"event_count\")\n",
    "                     )\n",
    "                     .withColumn(\n",
    "                         \"session_length_hours\", \n",
    "                         (col(\"session_end\").cast(\"long\") - col(\"session_start\").cast(\"long\")) / 3600\n",
    "                     )\n",
    "                  )\n",
    "\n",
    "# Filter sessions with at least 2 events\n",
    "session_lengths_filtered = session_lengths.filter(col(\"event_count\") > 1)\n",
    "\n",
    "# Compute max session length per player\n",
    "max_session_length = (session_lengths_filtered.groupBy(\"player_id\", \"player_name\")\n",
    "                        .agg({\"session_length_hours\": \"max\"})\n",
    "                        .withColumnRenamed(\"max(session_length_hours)\", \"max_session_length_hours\")\n",
    "                        .orderBy(\"max_session_length_hours\", ascending=False))\n",
    "\n",
    "display(max_session_length)\n"
   ]
  },
  {
   "cell_type": "code",
   "execution_count": 0,
   "metadata": {
    "application/vnd.databricks.v1+cell": {
     "cellMetadata": {
      "byteLimit": 2048000,
      "rowLimit": 10000
     },
     "inputWidgets": {},
     "nuid": "c52fef82-90af-40a2-8447-70dba76027a6",
     "showTitle": false,
     "tableResultSettingsMap": {},
     "title": ""
    }
   },
   "outputs": [
    {
     "output_type": "display_data",
     "data": {
      "text/html": [
       "<style scoped>\n",
       "  .table-result-container {\n",
       "    max-height: 300px;\n",
       "    overflow: auto;\n",
       "  }\n",
       "  table, th, td {\n",
       "    border: 1px solid black;\n",
       "    border-collapse: collapse;\n",
       "  }\n",
       "  th, td {\n",
       "    padding: 5px;\n",
       "  }\n",
       "  th {\n",
       "    text-align: left;\n",
       "  }\n",
       "</style><div class='table-result-container'><table class='table-result'><thead style='background-color: white'><tr><th>player_id</th><th>player_name</th><th>max_session_length_hours</th></tr></thead><tbody><tr><td>P017</td><td>Joyce</td><td>537.8166666666667</td></tr><tr><td>P005</td><td>Kimberly</td><td>423.81666666666666</td></tr><tr><td>P006</td><td>Jessica</td><td>280.25</td></tr><tr><td>P009</td><td>Larry</td><td>28.65</td></tr><tr><td>P013</td><td>Jason</td><td>10.55</td></tr><tr><td>P019</td><td>Melissa</td><td>0.1</td></tr><tr><td>P003</td><td>Danny</td><td>0.1</td></tr><tr><td>P002</td><td>Vanessa</td><td>0.1</td></tr><tr><td>P015</td><td>Robert</td><td>0.1</td></tr><tr><td>P010</td><td>Kelly</td><td>0.1</td></tr><tr><td>P012</td><td>Tommy</td><td>0.1</td></tr><tr><td>P008</td><td>Teresa</td><td>0.1</td></tr><tr><td>P001</td><td>Timothy</td><td>0.1</td></tr><tr><td>P016</td><td>Trevor</td><td>0.1</td></tr><tr><td>P018</td><td>Patricia</td><td>0.1</td></tr><tr><td>P020</td><td>Stephanie</td><td>0.1</td></tr><tr><td>P007</td><td>Anthony</td><td>0.1</td></tr><tr><td>P004</td><td>Amanda</td><td>0.1</td></tr><tr><td>P011</td><td>Kenneth</td><td>0.1</td></tr><tr><td>P014</td><td>Doris</td><td>0.1</td></tr></tbody></table></div>"
      ]
     },
     "metadata": {
      "application/vnd.databricks.v1+output": {
       "addedWidgets": {},
       "aggData": [],
       "aggError": "",
       "aggOverflow": false,
       "aggSchema": [],
       "aggSeriesLimitReached": false,
       "aggType": "",
       "arguments": {},
       "columnCustomDisplayInfos": {},
       "data": [
        [
         "P017",
         "Joyce",
         537.8166666666667
        ],
        [
         "P005",
         "Kimberly",
         423.81666666666666
        ],
        [
         "P006",
         "Jessica",
         280.25
        ],
        [
         "P009",
         "Larry",
         28.65
        ],
        [
         "P013",
         "Jason",
         10.55
        ],
        [
         "P019",
         "Melissa",
         0.1
        ],
        [
         "P003",
         "Danny",
         0.1
        ],
        [
         "P002",
         "Vanessa",
         0.1
        ],
        [
         "P015",
         "Robert",
         0.1
        ],
        [
         "P010",
         "Kelly",
         0.1
        ],
        [
         "P012",
         "Tommy",
         0.1
        ],
        [
         "P008",
         "Teresa",
         0.1
        ],
        [
         "P001",
         "Timothy",
         0.1
        ],
        [
         "P016",
         "Trevor",
         0.1
        ],
        [
         "P018",
         "Patricia",
         0.1
        ],
        [
         "P020",
         "Stephanie",
         0.1
        ],
        [
         "P007",
         "Anthony",
         0.1
        ],
        [
         "P004",
         "Amanda",
         0.1
        ],
        [
         "P011",
         "Kenneth",
         0.1
        ],
        [
         "P014",
         "Doris",
         0.1
        ]
       ],
       "datasetInfos": [],
       "dbfsResultPath": null,
       "isJsonSchema": true,
       "metadata": {},
       "overflow": false,
       "plotOptions": {
        "customPlotOptions": {},
        "displayType": "table",
        "pivotAggregation": null,
        "pivotColumns": null,
        "xColumns": null,
        "yColumns": null
       },
       "removedWidgets": [],
       "schema": [
        {
         "metadata": "{}",
         "name": "player_id",
         "type": "\"string\""
        },
        {
         "metadata": "{}",
         "name": "player_name",
         "type": "\"string\""
        },
        {
         "metadata": "{}",
         "name": "max_session_length_hours",
         "type": "\"double\""
        }
       ],
       "type": "table"
      }
     },
     "output_type": "display_data"
    }
   ],
   "source": [
    "from pyspark.sql.functions import when\n",
    "\n",
    "session_lengths = (df.groupBy(\"player_id\", \"player_name\", \"session_id\")\n",
    "                     .agg(\n",
    "                         spark_min(\"timestamp\").alias(\"session_start\"),\n",
    "                         spark_max(\"timestamp\").alias(\"session_end\"),\n",
    "                         count(\"*\").alias(\"event_count\")\n",
    "                     )\n",
    "                     .withColumn(\n",
    "                         \"session_length_hours\", \n",
    "                         (col(\"session_end\").cast(\"long\") - col(\"session_start\").cast(\"long\")) / 3600\n",
    "                     )\n",
    "                     # Assign minimum 0.1 hours if only 1 event\n",
    "                     .withColumn(\n",
    "                         \"session_length_hours\",\n",
    "                         when(col(\"event_count\") == 1, 0.1).otherwise(col(\"session_length_hours\"))\n",
    "                     )\n",
    "                  )\n",
    "\n",
    "max_session_length = (session_lengths.groupBy(\"player_id\", \"player_name\")\n",
    "                        .agg({\"session_length_hours\": \"max\"})\n",
    "                        .withColumnRenamed(\"max(session_length_hours)\", \"max_session_length_hours\")\n",
    "                        .orderBy(\"max_session_length_hours\", ascending=False))\n",
    "\n",
    "display(max_session_length)\n"
   ]
  },
  {
   "cell_type": "code",
   "execution_count": 0,
   "metadata": {
    "application/vnd.databricks.v1+cell": {
     "cellMetadata": {
      "byteLimit": 2048000,
      "rowLimit": 10000
     },
     "inputWidgets": {},
     "nuid": "5c5e668d-7375-4323-a3e0-882838507d46",
     "showTitle": false,
     "tableResultSettingsMap": {},
     "title": ""
    }
   },
   "outputs": [
    {
     "output_type": "display_data",
     "data": {
      "text/html": [
       "<style scoped>\n",
       "  .table-result-container {\n",
       "    max-height: 300px;\n",
       "    overflow: auto;\n",
       "  }\n",
       "  table, th, td {\n",
       "    border: 1px solid black;\n",
       "    border-collapse: collapse;\n",
       "  }\n",
       "  th, td {\n",
       "    padding: 5px;\n",
       "  }\n",
       "  th {\n",
       "    text-align: left;\n",
       "  }\n",
       "</style><div class='table-result-container'><table class='table-result'><thead style='background-color: white'><tr><th>player_id</th><th>player_name</th><th>max_session_length_minutes</th></tr></thead><tbody><tr><td>P017</td><td>Joyce</td><td>32269.0</td></tr><tr><td>P005</td><td>Kimberly</td><td>25429.0</td></tr><tr><td>P006</td><td>Jessica</td><td>16815.0</td></tr><tr><td>P009</td><td>Larry</td><td>1719.0</td></tr><tr><td>P013</td><td>Jason</td><td>633.0</td></tr><tr><td>P019</td><td>Melissa</td><td>5.0</td></tr><tr><td>P003</td><td>Danny</td><td>5.0</td></tr><tr><td>P002</td><td>Vanessa</td><td>5.0</td></tr><tr><td>P015</td><td>Robert</td><td>5.0</td></tr><tr><td>P010</td><td>Kelly</td><td>5.0</td></tr><tr><td>P012</td><td>Tommy</td><td>5.0</td></tr><tr><td>P008</td><td>Teresa</td><td>5.0</td></tr><tr><td>P001</td><td>Timothy</td><td>5.0</td></tr><tr><td>P016</td><td>Trevor</td><td>5.0</td></tr><tr><td>P018</td><td>Patricia</td><td>5.0</td></tr><tr><td>P020</td><td>Stephanie</td><td>5.0</td></tr><tr><td>P007</td><td>Anthony</td><td>5.0</td></tr><tr><td>P004</td><td>Amanda</td><td>5.0</td></tr><tr><td>P011</td><td>Kenneth</td><td>5.0</td></tr><tr><td>P014</td><td>Doris</td><td>5.0</td></tr></tbody></table></div>"
      ]
     },
     "metadata": {
      "application/vnd.databricks.v1+output": {
       "addedWidgets": {},
       "aggData": [],
       "aggError": "",
       "aggOverflow": false,
       "aggSchema": [],
       "aggSeriesLimitReached": false,
       "aggType": "",
       "arguments": {},
       "columnCustomDisplayInfos": {},
       "data": [
        [
         "P017",
         "Joyce",
         32269.0
        ],
        [
         "P005",
         "Kimberly",
         25429.0
        ],
        [
         "P006",
         "Jessica",
         16815.0
        ],
        [
         "P009",
         "Larry",
         1719.0
        ],
        [
         "P013",
         "Jason",
         633.0
        ],
        [
         "P019",
         "Melissa",
         5.0
        ],
        [
         "P003",
         "Danny",
         5.0
        ],
        [
         "P002",
         "Vanessa",
         5.0
        ],
        [
         "P015",
         "Robert",
         5.0
        ],
        [
         "P010",
         "Kelly",
         5.0
        ],
        [
         "P012",
         "Tommy",
         5.0
        ],
        [
         "P008",
         "Teresa",
         5.0
        ],
        [
         "P001",
         "Timothy",
         5.0
        ],
        [
         "P016",
         "Trevor",
         5.0
        ],
        [
         "P018",
         "Patricia",
         5.0
        ],
        [
         "P020",
         "Stephanie",
         5.0
        ],
        [
         "P007",
         "Anthony",
         5.0
        ],
        [
         "P004",
         "Amanda",
         5.0
        ],
        [
         "P011",
         "Kenneth",
         5.0
        ],
        [
         "P014",
         "Doris",
         5.0
        ]
       ],
       "datasetInfos": [],
       "dbfsResultPath": null,
       "isJsonSchema": true,
       "metadata": {},
       "overflow": false,
       "plotOptions": {
        "customPlotOptions": {},
        "displayType": "table",
        "pivotAggregation": null,
        "pivotColumns": null,
        "xColumns": null,
        "yColumns": null
       },
       "removedWidgets": [],
       "schema": [
        {
         "metadata": "{}",
         "name": "player_id",
         "type": "\"string\""
        },
        {
         "metadata": "{}",
         "name": "player_name",
         "type": "\"string\""
        },
        {
         "metadata": "{}",
         "name": "max_session_length_minutes",
         "type": "\"double\""
        }
       ],
       "type": "table"
      }
     },
     "output_type": "display_data"
    }
   ],
   "source": [
    "from pyspark.sql.functions import when, col, min as spark_min, max as spark_max, count\n",
    "\n",
    "session_lengths = (df.groupBy(\"player_id\", \"player_name\", \"session_id\")\n",
    "                     .agg(\n",
    "                         spark_min(\"timestamp\").alias(\"session_start\"),\n",
    "                         spark_max(\"timestamp\").alias(\"session_end\"),\n",
    "                         count(\"*\").alias(\"event_count\")\n",
    "                     )\n",
    "                     .withColumn(\n",
    "                         \"session_length_minutes\", \n",
    "                         (col(\"session_end\").cast(\"long\") - col(\"session_start\").cast(\"long\")) / 60\n",
    "                     )\n",
    "                     # Assign minimum 5 minutes if only 1 event\n",
    "                     .withColumn(\n",
    "                         \"session_length_minutes\",\n",
    "                         when(col(\"event_count\") == 1, 5).otherwise(col(\"session_length_minutes\"))\n",
    "                     )\n",
    "                  )\n",
    "\n",
    "max_session_length = (session_lengths.groupBy(\"player_id\", \"player_name\")\n",
    "                        .agg({\"session_length_minutes\": \"max\"})\n",
    "                        .withColumnRenamed(\"max(session_length_minutes)\", \"max_session_length_minutes\")\n",
    "                        .orderBy(\"max_session_length_minutes\", ascending=False))\n",
    "\n",
    "display(max_session_length)\n"
   ]
  },
  {
   "cell_type": "code",
   "execution_count": 0,
   "metadata": {
    "application/vnd.databricks.v1+cell": {
     "cellMetadata": {
      "byteLimit": 2048000,
      "rowLimit": 10000
     },
     "inputWidgets": {},
     "nuid": "d486a580-f443-42e9-ab32-bbc21de856a5",
     "showTitle": false,
     "tableResultSettingsMap": {},
     "title": ""
    }
   },
   "outputs": [],
   "source": [
    "df.createOrReplaceTempView(\"player_events\")\n"
   ]
  },
  {
   "cell_type": "code",
   "execution_count": 0,
   "metadata": {
    "application/vnd.databricks.v1+cell": {
     "cellMetadata": {
      "byteLimit": 2048000,
      "rowLimit": 10000
     },
     "inputWidgets": {},
     "nuid": "c1c4819f-45bc-4988-9d57-e44cbd3ca35e",
     "showTitle": false,
     "tableResultSettingsMap": {},
     "title": ""
    }
   },
   "outputs": [
    {
     "output_type": "display_data",
     "data": {
      "text/html": [
       "<style scoped>\n",
       "  .table-result-container {\n",
       "    max-height: 300px;\n",
       "    overflow: auto;\n",
       "  }\n",
       "  table, th, td {\n",
       "    border: 1px solid black;\n",
       "    border-collapse: collapse;\n",
       "  }\n",
       "  th, td {\n",
       "    padding: 5px;\n",
       "  }\n",
       "  th {\n",
       "    text-align: left;\n",
       "  }\n",
       "</style><div class='table-result-container'><table class='table-result'><thead style='background-color: white'><tr><th>player_id</th><th>player_name</th><th>total_spent</th></tr></thead><tbody><tr><td>P017</td><td>Joyce</td><td>1530.0</td></tr><tr><td>P020</td><td>Stephanie</td><td>867.0</td></tr><tr><td>P007</td><td>Anthony</td><td>606.0</td></tr><tr><td>P014</td><td>Doris</td><td>602.0</td></tr><tr><td>P001</td><td>Timothy</td><td>566.0</td></tr></tbody></table></div>"
      ]
     },
     "metadata": {
      "application/vnd.databricks.v1+output": {
       "addedWidgets": {},
       "aggData": [],
       "aggError": "",
       "aggOverflow": false,
       "aggSchema": [],
       "aggSeriesLimitReached": false,
       "aggType": "",
       "arguments": {},
       "columnCustomDisplayInfos": {},
       "data": [
        [
         "P017",
         "Joyce",
         1530.0
        ],
        [
         "P020",
         "Stephanie",
         867.0
        ],
        [
         "P007",
         "Anthony",
         606.0
        ],
        [
         "P014",
         "Doris",
         602.0
        ],
        [
         "P001",
         "Timothy",
         566.0
        ]
       ],
       "datasetInfos": [],
       "dbfsResultPath": null,
       "isJsonSchema": true,
       "metadata": {},
       "overflow": false,
       "plotOptions": {
        "customPlotOptions": {},
        "displayType": "table",
        "pivotAggregation": null,
        "pivotColumns": null,
        "xColumns": null,
        "yColumns": null
       },
       "removedWidgets": [],
       "schema": [
        {
         "metadata": "{}",
         "name": "player_id",
         "type": "\"string\""
        },
        {
         "metadata": "{}",
         "name": "player_name",
         "type": "\"string\""
        },
        {
         "metadata": "{}",
         "name": "total_spent",
         "type": "\"double\""
        }
       ],
       "type": "table"
      }
     },
     "output_type": "display_data"
    }
   ],
   "source": [
    "top5_spenders = spark.sql(\"\"\"\n",
    "    SELECT player_id, player_name, SUM(amount_spent) AS total_spent\n",
    "    FROM player_events\n",
    "    WHERE task = 'purchase'\n",
    "    GROUP BY player_id, player_name\n",
    "    ORDER BY total_spent DESC\n",
    "    LIMIT 5\n",
    "\"\"\")\n",
    "display(top5_spenders)\n"
   ]
  },
  {
   "cell_type": "code",
   "execution_count": 0,
   "metadata": {
    "application/vnd.databricks.v1+cell": {
     "cellMetadata": {
      "byteLimit": 2048000,
      "rowLimit": 10000
     },
     "inputWidgets": {},
     "nuid": "1352689f-3ec4-41b5-bbf4-a2ce03abef5b",
     "showTitle": false,
     "tableResultSettingsMap": {},
     "title": ""
    }
   },
   "outputs": [],
   "source": [
    "# Create a month column\n",
    "events_with_month = spark.sql(\"\"\"\n",
    "    SELECT *, DATE_FORMAT(timestamp, 'yyyy-MM') AS year_month\n",
    "    FROM player_events\n",
    "\"\"\")\n",
    "events_with_month.createOrReplaceTempView(\"player_events_month\")\n",
    "\n",
    "# Active players by month\n",
    "active_players = spark.sql(\"\"\"\n",
    "    SELECT DISTINCT player_id, year_month\n",
    "    FROM player_events_month\n",
    "    WHERE task = 'login'\n",
    "\"\"\")\n",
    "active_players.createOrReplaceTempView(\"active_players\")\n"
   ]
  },
  {
   "cell_type": "code",
   "execution_count": 0,
   "metadata": {
    "application/vnd.databricks.v1+cell": {
     "cellMetadata": {
      "byteLimit": 2048000,
      "rowLimit": 10000
     },
     "inputWidgets": {},
     "nuid": "11cf4631-2c11-41a1-9c9e-7b955e810429",
     "showTitle": false,
     "tableResultSettingsMap": {},
     "title": ""
    }
   },
   "outputs": [
    {
     "output_type": "display_data",
     "data": {
      "text/html": [
       "<style scoped>\n",
       "  .table-result-container {\n",
       "    max-height: 300px;\n",
       "    overflow: auto;\n",
       "  }\n",
       "  table, th, td {\n",
       "    border: 1px solid black;\n",
       "    border-collapse: collapse;\n",
       "  }\n",
       "  th, td {\n",
       "    padding: 5px;\n",
       "  }\n",
       "  th {\n",
       "    text-align: left;\n",
       "  }\n",
       "</style><div class='table-result-container'><table class='table-result'><thead style='background-color: white'><tr><th>churn_rate</th></tr></thead><tbody><tr><td>83.33333333333333</td></tr></tbody></table></div>"
      ]
     },
     "metadata": {
      "application/vnd.databricks.v1+output": {
       "addedWidgets": {},
       "aggData": [],
       "aggError": "",
       "aggOverflow": false,
       "aggSchema": [],
       "aggSeriesLimitReached": false,
       "aggType": "",
       "arguments": {},
       "columnCustomDisplayInfos": {},
       "data": [
        [
         "83.33333333333333"
        ]
       ],
       "datasetInfos": [],
       "dbfsResultPath": null,
       "isJsonSchema": true,
       "metadata": {},
       "overflow": false,
       "plotOptions": {
        "customPlotOptions": {},
        "displayType": "table",
        "pivotAggregation": null,
        "pivotColumns": null,
        "xColumns": null,
        "yColumns": null
       },
       "removedWidgets": [],
       "schema": [
        {
         "metadata": "{}",
         "name": "churn_rate",
         "type": "\"decimal(38,14)\""
        }
       ],
       "type": "table"
      }
     },
     "output_type": "display_data"
    }
   ],
   "source": [
    "churn = spark.sql(\"\"\"\n",
    "WITH months AS (\n",
    "    SELECT DISTINCT year_month FROM active_players\n",
    "    ORDER BY year_month DESC\n",
    "    LIMIT 2\n",
    "),\n",
    "last_month AS (\n",
    "    SELECT year_month FROM months ORDER BY year_month ASC LIMIT 1\n",
    "),\n",
    "this_month AS (\n",
    "    SELECT year_month FROM months ORDER BY year_month DESC LIMIT 1\n",
    "),\n",
    "active_last AS (\n",
    "    SELECT player_id FROM active_players WHERE year_month = (SELECT year_month FROM last_month)\n",
    "),\n",
    "active_this AS (\n",
    "    SELECT player_id FROM active_players WHERE year_month = (SELECT year_month FROM this_month)\n",
    "),\n",
    "churned AS (\n",
    "    SELECT l.player_id\n",
    "    FROM active_last l\n",
    "    LEFT JOIN active_this t ON l.player_id = t.player_id\n",
    "    WHERE t.player_id IS NULL\n",
    ")\n",
    "SELECT \n",
    "    COUNT(DISTINCT c.player_id) * 100.0 / COUNT(DISTINCT l.player_id) AS churn_rate\n",
    "FROM active_last l\n",
    "LEFT JOIN churned c ON l.player_id = c.player_id\n",
    "\"\"\")\n",
    "\n",
    "display(churn)\n"
   ]
  },
  {
   "cell_type": "code",
   "execution_count": 0,
   "metadata": {
    "application/vnd.databricks.v1+cell": {
     "cellMetadata": {
      "byteLimit": 2048000,
      "rowLimit": 10000
     },
     "inputWidgets": {},
     "nuid": "12c0c881-68a6-45ef-8f13-ac9fed169e3a",
     "showTitle": false,
     "tableResultSettingsMap": {},
     "title": ""
    }
   },
   "outputs": [],
   "source": [
    "events_df = df \n",
    "events_df.createOrReplaceTempView(\"player_events\")\n"
   ]
  },
  {
   "cell_type": "code",
   "execution_count": 0,
   "metadata": {
    "application/vnd.databricks.v1+cell": {
     "cellMetadata": {
      "byteLimit": 2048000,
      "implicitDf": true,
      "rowLimit": 10000
     },
     "inputWidgets": {},
     "nuid": "e78e0ae3-f84c-4b61-90ee-7679311fe2b6",
     "showTitle": false,
     "tableResultSettingsMap": {},
     "title": ""
    }
   },
   "outputs": [
    {
     "output_type": "display_data",
     "data": {
      "text/html": [
       "<style scoped>\n",
       "  .table-result-container {\n",
       "    max-height: 300px;\n",
       "    overflow: auto;\n",
       "  }\n",
       "  table, th, td {\n",
       "    border: 1px solid black;\n",
       "    border-collapse: collapse;\n",
       "  }\n",
       "  th, td {\n",
       "    padding: 5px;\n",
       "  }\n",
       "  th {\n",
       "    text-align: left;\n",
       "  }\n",
       "</style><div class='table-result-container'><table class='table-result'><thead style='background-color: white'><tr><th>player_id</th><th>player_name</th><th>total_spent</th></tr></thead><tbody><tr><td>P017</td><td>Joyce</td><td>1530.0</td></tr><tr><td>P020</td><td>Stephanie</td><td>867.0</td></tr><tr><td>P007</td><td>Anthony</td><td>606.0</td></tr><tr><td>P014</td><td>Doris</td><td>602.0</td></tr><tr><td>P001</td><td>Timothy</td><td>566.0</td></tr></tbody></table></div>"
      ]
     },
     "metadata": {
      "application/vnd.databricks.v1+output": {
       "addedWidgets": {},
       "aggData": [],
       "aggError": "",
       "aggOverflow": false,
       "aggSchema": [],
       "aggSeriesLimitReached": false,
       "aggType": "",
       "arguments": {},
       "columnCustomDisplayInfos": {},
       "data": [
        [
         "P017",
         "Joyce",
         1530.0
        ],
        [
         "P020",
         "Stephanie",
         867.0
        ],
        [
         "P007",
         "Anthony",
         606.0
        ],
        [
         "P014",
         "Doris",
         602.0
        ],
        [
         "P001",
         "Timothy",
         566.0
        ]
       ],
       "datasetInfos": [
        {
         "name": "_sqldf",
         "schema": {
          "fields": [
           {
            "metadata": {},
            "name": "player_id",
            "nullable": true,
            "type": "string"
           },
           {
            "metadata": {},
            "name": "player_name",
            "nullable": true,
            "type": "string"
           },
           {
            "metadata": {},
            "name": "total_spent",
            "nullable": true,
            "type": "double"
           }
          ],
          "type": "struct"
         },
         "tableIdentifier": null,
         "typeStr": "pyspark.sql.connect.dataframe.DataFrame"
        }
       ],
       "dbfsResultPath": null,
       "isJsonSchema": true,
       "metadata": {
        "createTempViewForImplicitDf": true,
        "dataframeName": "_sqldf",
        "executionCount": 77
       },
       "overflow": false,
       "plotOptions": {
        "customPlotOptions": {},
        "displayType": "table",
        "pivotAggregation": null,
        "pivotColumns": null,
        "xColumns": null,
        "yColumns": null
       },
       "removedWidgets": [],
       "schema": [
        {
         "metadata": "{}",
         "name": "player_id",
         "type": "\"string\""
        },
        {
         "metadata": "{}",
         "name": "player_name",
         "type": "\"string\""
        },
        {
         "metadata": "{}",
         "name": "total_spent",
         "type": "\"double\""
        }
       ],
       "type": "table"
      }
     },
     "output_type": "display_data"
    },
    {
     "output_type": "display_data",
     "data": {
      "text/plain": [
       "Databricks visualization. Run in Databricks to view."
      ]
     },
     "metadata": {
      "application/vnd.databricks.v1.subcommand+json": {
       "baseErrorDetails": null,
       "bindings": {},
       "collapsed": false,
       "command": "%sql WITH q AS (SELECT player_id, player_name, SUM(amount_spent) AS total_spent\nFROM player_events\nWHERE task = 'purchase'\nGROUP BY player_id, player_name\nORDER BY total_spent DESC\nLIMIT 5) SELECT `player_id`,`player_name`,SUM(`total_spent`) `column_a90e9f6570` FROM q GROUP BY `player_id`,`player_name`",
       "commandTitle": "Visualization 1",
       "commandType": "auto",
       "commandVersion": 0,
       "commentThread": [],
       "commentsVisible": false,
       "contentSha256Hex": null,
       "customPlotOptions": {
        "redashChart": [
         {
          "key": "type",
          "value": "CHART"
         },
         {
          "key": "options",
          "value": {
           "alignYAxesAtZero": true,
           "coefficient": 1,
           "columnConfigurationMap": {
            "series": {
             "column": "player_name",
             "id": "column_a90e9f6569"
            },
            "x": {
             "column": "player_id",
             "id": "column_a90e9f6568"
            },
            "y": [
             {
              "column": "total_spent",
              "id": "column_a90e9f6570",
              "transform": "SUM"
             }
            ]
           },
           "dateTimeFormat": "DD/MM/YYYY HH:mm",
           "direction": {
            "type": "counterclockwise"
           },
           "error_y": {
            "type": "data",
            "visible": true
           },
           "globalSeriesType": "column",
           "legend": {
            "traceorder": "normal"
           },
           "missingValuesAsZero": true,
           "numberFormat": "0,0.[00000]",
           "percentFormat": "0[.]00%",
           "series": {
            "error_y": {
             "type": "data",
             "visible": true
            },
            "stacking": "stack"
           },
           "seriesOptions": {
            "column_a90e9f6570": {
             "name": "total_spent",
             "yAxis": 0
            }
           },
           "showDataLabels": false,
           "sizemode": "diameter",
           "sortX": true,
           "sortY": true,
           "swappedAxes": true,
           "textFormat": "",
           "useAggregationsUi": true,
           "valuesOptions": {},
           "version": 2,
           "xAxis": {
            "labels": {
             "enabled": true
            },
            "type": "-"
           },
           "yAxis": [
            {
             "type": "-"
            },
            {
             "opposite": true,
             "type": "-"
            }
           ]
          }
         }
        ]
       },
       "datasetPreviewNameToCmdIdMap": {},
       "diffDeletes": [],
       "diffInserts": [],
       "displayType": "redashChart",
       "error": null,
       "errorDetails": null,
       "errorSummary": null,
       "errorTraceType": null,
       "finishTime": 0,
       "globalVars": {},
       "guid": "",
       "height": "auto",
       "hideCommandCode": false,
       "hideCommandResult": false,
       "iPythonMetadata": null,
       "inputWidgets": {},
       "isLockedInExamMode": false,
       "latestUser": "a user",
       "latestUserId": null,
       "listResultMetadata": null,
       "metadata": {},
       "nuid": "8cfcbd2b-2c8a-4bf3-bd02-a82763fa5dd1",
       "origId": 0,
       "parentHierarchy": [],
       "pivotAggregation": null,
       "pivotColumns": null,
       "position": 115.0,
       "resultDbfsErrorMessage": null,
       "resultDbfsStatus": "INLINED_IN_TREE",
       "results": null,
       "showCommandTitle": false,
       "startTime": 0,
       "state": "input",
       "streamStates": {},
       "subcommandOptions": {
        "queryPlan": {
         "groups": [
          {
           "column": "player_id",
           "type": "column"
          },
          {
           "column": "player_name",
           "type": "column"
          }
         ],
         "selects": [
          {
           "column": "player_id",
           "type": "column"
          },
          {
           "column": "player_name",
           "type": "column"
          },
          {
           "alias": "column_a90e9f6570",
           "args": [
            {
             "column": "total_spent",
             "type": "column"
            }
           ],
           "function": "SUM",
           "type": "function"
          }
         ]
        }
       },
       "submitTime": 0,
       "subtype": "tableResultSubCmd.visualization",
       "tableResultIndex": 0,
       "tableResultSettingsMap": {},
       "useConsistentColors": false,
       "version": "CommandV1",
       "width": "auto",
       "workflows": [],
       "xColumns": null,
       "yColumns": null
      }
     },
     "output_type": "display_data"
    }
   ],
   "source": [
    "%sql\n",
    "-- COMMAND ----------\n",
    "-- SQL cell: Top 5 spenders\n",
    "SELECT player_id, player_name, SUM(amount_spent) AS total_spent\n",
    "FROM player_events\n",
    "WHERE task = 'purchase'\n",
    "GROUP BY player_id, player_name\n",
    "ORDER BY total_spent DESC\n",
    "LIMIT 5;\n"
   ]
  },
  {
   "cell_type": "code",
   "execution_count": 0,
   "metadata": {
    "application/vnd.databricks.v1+cell": {
     "cellMetadata": {
      "byteLimit": 2048000,
      "implicitDf": true,
      "rowLimit": 10000
     },
     "inputWidgets": {},
     "nuid": "ed298969-f120-49be-8630-454bce427924",
     "showTitle": false,
     "tableResultSettingsMap": {},
     "title": ""
    }
   },
   "outputs": [
    {
     "output_type": "display_data",
     "data": {
      "text/html": [
       "<style scoped>\n",
       "  .table-result-container {\n",
       "    max-height: 300px;\n",
       "    overflow: auto;\n",
       "  }\n",
       "  table, th, td {\n",
       "    border: 1px solid black;\n",
       "    border-collapse: collapse;\n",
       "  }\n",
       "  th, td {\n",
       "    padding: 5px;\n",
       "  }\n",
       "  th {\n",
       "    text-align: left;\n",
       "  }\n",
       "</style><div class='table-result-container'><table class='table-result'><thead style='background-color: white'><tr><th>month</th><th>active_count</th><th>churn_count</th><th>churn_rate_percent</th></tr></thead><tbody><tr><td>2025-08</td><td>12</td><td>10</td><td>83.33</td></tr></tbody></table></div>"
      ]
     },
     "metadata": {
      "application/vnd.databricks.v1+output": {
       "addedWidgets": {},
       "aggData": [],
       "aggError": "",
       "aggOverflow": false,
       "aggSchema": [],
       "aggSeriesLimitReached": false,
       "aggType": "",
       "arguments": {},
       "columnCustomDisplayInfos": {},
       "data": [
        [
         "2025-08",
         12,
         10,
         "83.33"
        ]
       ],
       "datasetInfos": [
        {
         "name": "_sqldf",
         "schema": {
          "fields": [
           {
            "metadata": {},
            "name": "month",
            "nullable": true,
            "type": "string"
           },
           {
            "metadata": {},
            "name": "active_count",
            "nullable": true,
            "type": "long"
           },
           {
            "metadata": {},
            "name": "churn_count",
            "nullable": true,
            "type": "long"
           },
           {
            "metadata": {},
            "name": "churn_rate_percent",
            "nullable": true,
            "type": "decimal(27,2)"
           }
          ],
          "type": "struct"
         },
         "tableIdentifier": null,
         "typeStr": "pyspark.sql.connect.dataframe.DataFrame"
        }
       ],
       "dbfsResultPath": null,
       "isJsonSchema": true,
       "metadata": {
        "createTempViewForImplicitDf": true,
        "dataframeName": "_sqldf",
        "executionCount": 83
       },
       "overflow": false,
       "plotOptions": {
        "customPlotOptions": {},
        "displayType": "table",
        "pivotAggregation": null,
        "pivotColumns": null,
        "xColumns": null,
        "yColumns": null
       },
       "removedWidgets": [],
       "schema": [
        {
         "metadata": "{}",
         "name": "month",
         "type": "\"string\""
        },
        {
         "metadata": "{}",
         "name": "active_count",
         "type": "\"long\""
        },
        {
         "metadata": "{}",
         "name": "churn_count",
         "type": "\"long\""
        },
        {
         "metadata": "{}",
         "name": "churn_rate_percent",
         "type": "\"decimal(27,2)\""
        }
       ],
       "type": "table"
      }
     },
     "output_type": "display_data"
    },
    {
     "output_type": "display_data",
     "data": {
      "text/plain": [
       "Databricks visualization. Run in Databricks to view."
      ]
     },
     "metadata": {
      "application/vnd.databricks.v1.subcommand+json": {
       "baseErrorDetails": null,
       "bindings": {},
       "collapsed": false,
       "command": "%sql WITH q AS (WITH monthly_logins AS (\n  SELECT DISTINCT player_id, date_format(timestamp, 'yyyy-MM') AS ym\n  FROM player_events\n  WHERE task = 'login'\n),\nmonths AS (\n  SELECT DISTINCT ym\n  FROM monthly_logins\n),\nmonths_ordered AS (\n  SELECT ym, lead(ym) OVER (ORDER BY ym) AS next_ym\n  FROM (SELECT DISTINCT ym FROM months) t\n)\nSELECT\n  m.ym AS month,\n  \n  (SELECT COUNT(DISTINCT player_id) FROM monthly_logins WHERE ym = m.ym) AS active_count,\n  \n  (SELECT COUNT(DISTINCT ml1.player_id) \n     FROM monthly_logins ml1\n     LEFT JOIN monthly_logins ml2\n     ON ml1.player_id = ml2.player_id AND ml2.ym = m.next_ym\n     WHERE ml1.ym = m.ym AND ml2.player_id IS NULL\n  ) AS churn_count,\n  \n  ROUND(\n    100.0 * (SELECT COUNT(DISTINCT ml1.player_id) \n             FROM monthly_logins ml1\n             LEFT JOIN monthly_logins ml2\n             ON ml1.player_id = ml2.player_id AND ml2.ym = m.next_ym\n             WHERE ml1.ym = m.ym AND ml2.player_id IS NULL\n    ) / NULLIF((SELECT COUNT(DISTINCT player_id) FROM monthly_logins WHERE ym = m.ym), 0)\n  , 2) AS churn_rate_percent\nFROM months_ordered m\nWHERE m.next_ym IS NOT NULL\nORDER BY month) SELECT `month`,SUM(`churn_rate_percent`) `column_a90e9f65103`,`churn_rate_percent` FROM q GROUP BY `churn_rate_percent`,`month`",
       "commandTitle": "Visualization 1",
       "commandType": "auto",
       "commandVersion": 0,
       "commentThread": [],
       "commentsVisible": false,
       "contentSha256Hex": null,
       "customPlotOptions": {
        "redashChart": [
         {
          "key": "type",
          "value": "CHART"
         },
         {
          "key": "options",
          "value": {
           "alignYAxesAtZero": true,
           "coefficient": 1,
           "columnConfigurationMap": {
            "series": {
             "column": "churn_rate_percent",
             "id": "column_a90e9f65101"
            },
            "x": {
             "column": "month",
             "id": "column_a90e9f65100"
            },
            "y": [
             {
              "column": "churn_rate_percent",
              "id": "column_a90e9f65103",
              "transform": "SUM"
             }
            ]
           },
           "dateTimeFormat": "DD/MM/YYYY HH:mm",
           "direction": {
            "type": "counterclockwise"
           },
           "error_y": {
            "type": "data",
            "visible": true
           },
           "globalSeriesType": "line",
           "isAggregationOn": true,
           "legend": {
            "traceorder": "normal"
           },
           "missingValuesAsZero": true,
           "numberFormat": "0,0.[00000]",
           "percentFormat": "0[.]00%",
           "series": {
            "error_y": {
             "type": "data",
             "visible": true
            },
            "stacking": null
           },
           "seriesOptions": {
            "column_a90e9f65103": {
             "type": "line",
             "yAxis": 0
            }
           },
           "showDataLabels": false,
           "sizemode": "diameter",
           "sortX": true,
           "sortY": true,
           "swappedAxes": false,
           "textFormat": "",
           "useAggregationsUi": true,
           "valuesOptions": {},
           "version": 2,
           "xAxis": {
            "labels": {
             "enabled": true
            },
            "type": "-"
           },
           "yAxis": [
            {
             "type": "-"
            },
            {
             "opposite": true,
             "type": "-"
            }
           ]
          }
         }
        ]
       },
       "datasetPreviewNameToCmdIdMap": {},
       "diffDeletes": [],
       "diffInserts": [],
       "displayType": "redashChart",
       "error": null,
       "errorDetails": null,
       "errorSummary": null,
       "errorTraceType": null,
       "finishTime": 0,
       "globalVars": {},
       "guid": "",
       "height": "auto",
       "hideCommandCode": false,
       "hideCommandResult": false,
       "iPythonMetadata": null,
       "inputWidgets": {},
       "isLockedInExamMode": false,
       "latestUser": "a user",
       "latestUserId": null,
       "listResultMetadata": null,
       "metadata": {},
       "nuid": "93b53482-d30e-4205-bb2d-a026c79b79c2",
       "origId": 0,
       "parentHierarchy": [],
       "pivotAggregation": null,
       "pivotColumns": null,
       "position": 116.0,
       "resultDbfsErrorMessage": null,
       "resultDbfsStatus": "INLINED_IN_TREE",
       "results": null,
       "showCommandTitle": false,
       "startTime": 0,
       "state": "input",
       "streamStates": {},
       "subcommandOptions": {
        "queryPlan": {
         "groups": [
          {
           "column": "month",
           "type": "column"
          },
          {
           "column": "churn_rate_percent",
           "type": "column"
          }
         ],
         "selects": [
          {
           "column": "month",
           "type": "column"
          },
          {
           "alias": "column_a90e9f65103",
           "args": [
            {
             "column": "churn_rate_percent",
             "type": "column"
            }
           ],
           "function": "SUM",
           "type": "function"
          },
          {
           "column": "churn_rate_percent",
           "type": "column"
          }
         ]
        }
       },
       "submitTime": 0,
       "subtype": "tableResultSubCmd.visualization",
       "tableResultIndex": 0,
       "tableResultSettingsMap": {},
       "useConsistentColors": false,
       "version": "CommandV1",
       "width": "auto",
       "workflows": [],
       "xColumns": null,
       "yColumns": null
      }
     },
     "output_type": "display_data"
    }
   ],
   "source": [
    "%sql\n",
    "-- COMMAND ----------\n",
    "WITH monthly_logins AS (\n",
    "  SELECT DISTINCT player_id, date_format(timestamp, 'yyyy-MM') AS ym\n",
    "  FROM player_events\n",
    "  WHERE task = 'login'\n",
    "),\n",
    "months AS (\n",
    "  SELECT DISTINCT ym\n",
    "  FROM monthly_logins\n",
    "),\n",
    "months_ordered AS (\n",
    "  SELECT ym, lead(ym) OVER (ORDER BY ym) AS next_ym\n",
    "  FROM (SELECT DISTINCT ym FROM months) t\n",
    ")\n",
    "SELECT\n",
    "  m.ym AS month,\n",
    "  -- players active in this month\n",
    "  (SELECT COUNT(DISTINCT player_id) FROM monthly_logins WHERE ym = m.ym) AS active_count,\n",
    "  -- players active in this month but NOT in next month\n",
    "  (SELECT COUNT(DISTINCT ml1.player_id) \n",
    "     FROM monthly_logins ml1\n",
    "     LEFT JOIN monthly_logins ml2\n",
    "     ON ml1.player_id = ml2.player_id AND ml2.ym = m.next_ym\n",
    "     WHERE ml1.ym = m.ym AND ml2.player_id IS NULL\n",
    "  ) AS churn_count,\n",
    "  -- churn rate %\n",
    "  ROUND(\n",
    "    100.0 * (SELECT COUNT(DISTINCT ml1.player_id) \n",
    "             FROM monthly_logins ml1\n",
    "             LEFT JOIN monthly_logins ml2\n",
    "             ON ml1.player_id = ml2.player_id AND ml2.ym = m.next_ym\n",
    "             WHERE ml1.ym = m.ym AND ml2.player_id IS NULL\n",
    "    ) / NULLIF((SELECT COUNT(DISTINCT player_id) FROM monthly_logins WHERE ym = m.ym), 0)\n",
    "  , 2) AS churn_rate_percent\n",
    "FROM months_ordered m\n",
    "WHERE m.next_ym IS NOT NULL\n",
    "ORDER BY month;"
   ]
  },
  {
   "cell_type": "code",
   "execution_count": 0,
   "metadata": {
    "application/vnd.databricks.v1+cell": {
     "cellMetadata": {
      "byteLimit": 2048000,
      "implicitDf": true,
      "rowLimit": 10000
     },
     "inputWidgets": {},
     "nuid": "3729aab6-a568-4d52-81b3-c02d2ea59e83",
     "showTitle": false,
     "tableResultSettingsMap": {},
     "title": ""
    }
   },
   "outputs": [
    {
     "output_type": "display_data",
     "data": {
      "text/html": [
       "<style scoped>\n",
       "  .table-result-container {\n",
       "    max-height: 300px;\n",
       "    overflow: auto;\n",
       "  }\n",
       "  table, th, td {\n",
       "    border: 1px solid black;\n",
       "    border-collapse: collapse;\n",
       "  }\n",
       "  th, td {\n",
       "    padding: 5px;\n",
       "  }\n",
       "  th {\n",
       "    text-align: left;\n",
       "  }\n",
       "</style><div class='table-result-container'><table class='table-result'><thead style='background-color: white'><tr><th>country</th><th>total_spend</th><th>players</th></tr></thead><tbody><tr><td>Spain</td><td>1966.0</td><td>4</td></tr><tr><td>India</td><td>1905.0</td><td>2</td></tr><tr><td>Brazil</td><td>1362.0</td><td>4</td></tr><tr><td>Germany</td><td>1147.0</td><td>2</td></tr><tr><td>UK</td><td>602.0</td><td>1</td></tr><tr><td>USA</td><td>490.0</td><td>2</td></tr></tbody></table></div>"
      ]
     },
     "metadata": {
      "application/vnd.databricks.v1+output": {
       "addedWidgets": {},
       "aggData": [],
       "aggError": "",
       "aggOverflow": false,
       "aggSchema": [],
       "aggSeriesLimitReached": false,
       "aggType": "",
       "arguments": {},
       "columnCustomDisplayInfos": {},
       "data": [
        [
         "Spain",
         1966.0,
         4
        ],
        [
         "India",
         1905.0,
         2
        ],
        [
         "Brazil",
         1362.0,
         4
        ],
        [
         "Germany",
         1147.0,
         2
        ],
        [
         "UK",
         602.0,
         1
        ],
        [
         "USA",
         490.0,
         2
        ]
       ],
       "datasetInfos": [
        {
         "name": "_sqldf",
         "schema": {
          "fields": [
           {
            "metadata": {},
            "name": "country",
            "nullable": true,
            "type": "string"
           },
           {
            "metadata": {},
            "name": "total_spend",
            "nullable": true,
            "type": "double"
           },
           {
            "metadata": {},
            "name": "players",
            "nullable": false,
            "type": "long"
           }
          ],
          "type": "struct"
         },
         "tableIdentifier": null,
         "typeStr": "pyspark.sql.connect.dataframe.DataFrame"
        }
       ],
       "dbfsResultPath": null,
       "isJsonSchema": true,
       "metadata": {
        "createTempViewForImplicitDf": true,
        "dataframeName": "_sqldf",
        "executionCount": 82
       },
       "overflow": false,
       "plotOptions": {
        "customPlotOptions": {},
        "displayType": "table",
        "pivotAggregation": null,
        "pivotColumns": null,
        "xColumns": null,
        "yColumns": null
       },
       "removedWidgets": [],
       "schema": [
        {
         "metadata": "{}",
         "name": "country",
         "type": "\"string\""
        },
        {
         "metadata": "{}",
         "name": "total_spend",
         "type": "\"double\""
        },
        {
         "metadata": "{}",
         "name": "players",
         "type": "\"long\""
        }
       ],
       "type": "table"
      }
     },
     "output_type": "display_data"
    },
    {
     "output_type": "display_data",
     "data": {
      "text/plain": [
       "Databricks visualization. Run in Databricks to view."
      ]
     },
     "metadata": {
      "application/vnd.databricks.v1.subcommand+json": {
       "baseErrorDetails": null,
       "bindings": {},
       "collapsed": false,
       "command": "%sql WITH q AS (SELECT country, SUM(amount_spent) AS total_spend, COUNT(DISTINCT player_id) AS players\nFROM player_events\nWHERE task = 'purchase'\nGROUP BY country\nORDER BY total_spend DESC) SELECT `total_spend`,`players`,`country` FROM q",
       "commandTitle": "Visualization 1",
       "commandType": "auto",
       "commandVersion": 0,
       "commentThread": [],
       "commentsVisible": false,
       "contentSha256Hex": null,
       "customPlotOptions": {
        "redashChart": [
         {
          "key": "type",
          "value": "CHART"
         },
         {
          "key": "options",
          "value": {
           "alignYAxesAtZero": true,
           "coefficient": 1,
           "columnConfigurationMap": {
            "series": {
             "column": "country",
             "id": "column_a90e9f6595"
            },
            "x": {
             "column": "total_spend",
             "id": "column_a90e9f6593"
            },
            "y": [
             {
              "column": "players",
              "id": "column_a90e9f6594"
             }
            ]
           },
           "dateTimeFormat": "DD/MM/YYYY HH:mm",
           "direction": {
            "type": "counterclockwise"
           },
           "error_y": {
            "type": "data",
            "visible": true
           },
           "globalSeriesType": "scatter",
           "legend": {
            "traceorder": "normal"
           },
           "missingValuesAsZero": true,
           "numberFormat": "0,0.[00000]",
           "percentFormat": "0[.]00%",
           "series": {
            "error_y": {
             "type": "data",
             "visible": true
            },
            "stacking": null
           },
           "seriesOptions": {
            "column_a90e9f6594": {
             "name": "players",
             "type": "scatter",
             "yAxis": 0
            },
            "players": {
             "name": "players",
             "type": "scatter",
             "yAxis": 0
            }
           },
           "showDataLabels": false,
           "sizemode": "diameter",
           "sortX": true,
           "sortY": true,
           "swappedAxes": false,
           "textFormat": "",
           "useAggregationsUi": true,
           "valuesOptions": {},
           "version": 2,
           "xAxis": {
            "labels": {
             "enabled": true
            },
            "type": "-"
           },
           "yAxis": [
            {
             "type": "-"
            },
            {
             "opposite": true,
             "type": "-"
            }
           ]
          }
         }
        ]
       },
       "datasetPreviewNameToCmdIdMap": {},
       "diffDeletes": [],
       "diffInserts": [],
       "displayType": "redashChart",
       "error": null,
       "errorDetails": null,
       "errorSummary": null,
       "errorTraceType": null,
       "finishTime": 0,
       "globalVars": {},
       "guid": "",
       "height": "auto",
       "hideCommandCode": false,
       "hideCommandResult": false,
       "iPythonMetadata": null,
       "inputWidgets": {},
       "isLockedInExamMode": false,
       "latestUser": "a user",
       "latestUserId": null,
       "listResultMetadata": null,
       "metadata": {},
       "nuid": "8a738eac-79a0-4d77-a313-e88a47c21ac0",
       "origId": 0,
       "parentHierarchy": [],
       "pivotAggregation": null,
       "pivotColumns": null,
       "position": 117.0,
       "resultDbfsErrorMessage": null,
       "resultDbfsStatus": "INLINED_IN_TREE",
       "results": null,
       "showCommandTitle": false,
       "startTime": 0,
       "state": "input",
       "streamStates": {},
       "subcommandOptions": {
        "queryPlan": {
         "selects": [
          {
           "column": "total_spend",
           "type": "column"
          },
          {
           "column": "players",
           "type": "column"
          },
          {
           "column": "country",
           "type": "column"
          }
         ]
        }
       },
       "submitTime": 0,
       "subtype": "tableResultSubCmd.visualization",
       "tableResultIndex": 0,
       "tableResultSettingsMap": {},
       "useConsistentColors": false,
       "version": "CommandV1",
       "width": "auto",
       "workflows": [],
       "xColumns": null,
       "yColumns": null
      }
     },
     "output_type": "display_data"
    }
   ],
   "source": [
    "%sql\n",
    "-- COMMAND ----------\n",
    "SELECT country, SUM(amount_spent) AS total_spend, COUNT(DISTINCT player_id) AS players\n",
    "FROM player_events\n",
    "WHERE task = 'purchase'\n",
    "GROUP BY country\n",
    "ORDER BY total_spend DESC;\n"
   ]
  }
 ],
 "metadata": {
  "application/vnd.databricks.v1+notebook": {
   "computePreferences": null,
   "dashboards": [],
   "environmentMetadata": {
    "base_environment": "",
    "environment_version": "3"
   },
   "inputWidgetPreferences": null,
   "language": "python",
   "notebookMetadata": {
    "mostRecentlyExecutedCommandWithImplicitDF": {
     "commandId": 7336961723955735,
     "dataframes": [
      "_sqldf"
     ]
    },
    "pythonIndentUnit": 4
   },
   "notebookName": "24MBMB36",
   "widgets": {}
  },
  "language_info": {
   "name": "python"
  }
 },
 "nbformat": 4,
 "nbformat_minor": 0
}